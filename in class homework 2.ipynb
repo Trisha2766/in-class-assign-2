{
 "cells": [
  {
   "cell_type": "code",
   "execution_count": 1,
   "id": "adfec8fb",
   "metadata": {},
   "outputs": [
    {
     "name": "stdout",
     "output_type": "stream",
     "text": [
      "not weird\n"
     ]
    }
   ],
   "source": [
    "# version where you have to change the value of n in the code\n",
    "\n",
    "# this version works!\n",
    "\n",
    "n = 24\n",
    "\n",
    "if n < 1 or n > 100:\n",
    "    print(\"pick a number between 1 and 100\")\n",
    "\n",
    "\n",
    "elif n%2 == 1:\n",
    "    print(\"weird\")\n",
    "        \n",
    "elif 2 <= n <= 5:\n",
    "    print(\"not weird\")\n",
    "        \n",
    "elif 6 <= n <= 20:\n",
    "    print(\"weird\")\n",
    "        \n",
    "elif n > 20:\n",
    "    print(\"not weird\")"
   ]
  },
  {
   "cell_type": "code",
   "execution_count": null,
   "id": "13be4017",
   "metadata": {},
   "outputs": [
    {
     "name": "stdout",
     "output_type": "stream",
     "text": [
      "0\n",
      "type in a number above to check if it is weird or not\n"
     ]
    }
   ],
   "source": [
    "#### version with input, doesn't work, but I tried\n",
    "\n",
    "n = 0           # to make sure we are starting with a n value of 0\n",
    "print(n)        # to test and make sure it is really 0\n",
    "print(\"type in a number above to check if it is weird or not\")\n",
    "input(int(n))   # somehow this input thing isn't working and n is still = 0\n",
    "\n",
    "if n < 1 or n > 100:\n",
    "    print(\"pick a number between 1 and 100\")\n",
    "\n",
    "\n",
    "elif n%2 == 1:\n",
    "    print(\"weird\")\n",
    "\n",
    "elif 2 <= n <= 5:\n",
    "    print(\"not weird\")\n",
    "\n",
    "elif 6 <= n <= 20:\n",
    "    print(\"weird\")\n",
    "\n",
    "elif n > 20:\n",
    "    print(\"not weird\")"
   ]
  },
  {
   "cell_type": "code",
   "execution_count": null,
   "id": "99dc728d",
   "metadata": {},
   "outputs": [],
   "source": [
    "# Attempt with a defined function ; doesn't work either\n",
    "\n",
    "def mything(n):\n",
    "\n",
    "    n = 22\n",
    "    #input(int(n))\n",
    "    if n < 1 or n > 100:\n",
    "        print(\"pick a number between 1 and 100\")\n",
    "\n",
    "\n",
    "    elif n%2 == 1:\n",
    "        print(\"weird\")\n",
    "        \n",
    "    elif 2 <= n <= 5:\n",
    "        print(\"not weird\")\n",
    "        \n",
    "    elif 6 <= n <= 20:\n",
    "        print(\"weird\")\n",
    "        \n",
    "    elif n > 20:\n",
    "        print(\"not weird\")"
   ]
  }
 ],
 "metadata": {
  "kernelspec": {
   "display_name": "Python 3 (ipykernel)",
   "language": "python",
   "name": "python3"
  },
  "language_info": {
   "codemirror_mode": {
    "name": "ipython",
    "version": 3
   },
   "file_extension": ".py",
   "mimetype": "text/x-python",
   "name": "python",
   "nbconvert_exporter": "python",
   "pygments_lexer": "ipython3",
   "version": "3.9.7"
  }
 },
 "nbformat": 4,
 "nbformat_minor": 5
}
